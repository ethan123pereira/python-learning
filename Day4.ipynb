{
  "nbformat": 4,
  "nbformat_minor": 0,
  "metadata": {
    "colab": {
      "provenance": []
    },
    "kernelspec": {
      "name": "python3",
      "display_name": "Python 3"
    },
    "language_info": {
      "name": "python"
    }
  },
  "cells": [
    {
      "cell_type": "code",
      "source": [
        "# Conditionals and loops\n",
        "# if, if..else statements are used to execute statements for certain forn certain conditions.\n",
        "# if, if....if..elif...elif...else"
      ],
      "metadata": {
        "id": "jx_oCSvqDNn_"
      },
      "execution_count": null,
      "outputs": []
    },
    {
      "cell_type": "code",
      "execution_count": null,
      "metadata": {
        "id": "O4sorChVCsh5"
      },
      "outputs": [],
      "source": [
        "# Question: Write a python program that takes marks of students and gives the grade on the basis of their marks\n",
        "# if marks are more than 50 then pass otherwise fail"
      ]
    },
    {
      "cell_type": "code",
      "source": [
        "marks=int(input(\"Enter your marks: \"))\n",
        "if marks>=50:\n",
        "  print(\"Pass\")\n",
        "else:\n",
        "  print(\"Fail\")"
      ],
      "metadata": {
        "colab": {
          "base_uri": "https://localhost:8080/"
        },
        "id": "_8atflB3EUf5",
        "outputId": "1c76aa57-19c8-44df-dca6-26396b3f13c8"
      },
      "execution_count": null,
      "outputs": [
        {
          "output_type": "stream",
          "name": "stdout",
          "text": [
            "Enter your marks: 100\n",
            "Pass\n"
          ]
        }
      ]
    },
    {
      "cell_type": "code",
      "source": [
        "# Question: Write a program that takes an integer and tells whether the number is positive or negative or zero\n",
        "num=int(input(\"Enter a number: \"))\n",
        "if num==0:\n",
        "  print(\"The number is: \",num)\n",
        "elif num>0:\n",
        "  print(num,\"is positive\")\n",
        "else:\n",
        "  print(num,\"is negative\")"
      ],
      "metadata": {
        "colab": {
          "base_uri": "https://localhost:8080/"
        },
        "id": "stIdqa_OFf8d",
        "outputId": "ddf91077-5622-408f-8caf-8c6f58872420"
      },
      "execution_count": null,
      "outputs": [
        {
          "output_type": "stream",
          "name": "stdout",
          "text": [
            "Enter a number: -2\n",
            "-2 is negative\n"
          ]
        }
      ]
    },
    {
      "cell_type": "code",
      "source": [
        "# Question: Write a python Program to check if a number is even or odd\n",
        "num=int(input(\"Enter a number: \"))\n",
        "if num%2==0:\n",
        "  print(num,\"is even\")\n",
        "else:\n",
        "  print(num,\"is odd\")"
      ],
      "metadata": {
        "colab": {
          "base_uri": "https://localhost:8080/"
        },
        "id": "xDKc7_DMH0rr",
        "outputId": "85f1a95f-4660-4671-dbec-0f92b77bd36e"
      },
      "execution_count": null,
      "outputs": [
        {
          "output_type": "stream",
          "name": "stdout",
          "text": [
            "Enter a number: 4\n",
            "4 is even\n"
          ]
        }
      ]
    },
    {
      "cell_type": "code",
      "source": [
        "# Question: Write a program that takes the marks of a student and grade them on the basis of the following conditions\n",
        "# if marks is less than 33, F grade\n",
        "# if marks is more than or equal to 33 and less than 65, C grade.\n",
        "# if marks is more than or equal to 65 and less than 80, B grade.\n",
        "# if marks is more than or equal to 80 and less than 90, A grade.\n",
        "# if marks is more than or equal to 90, then grade A+.\n",
        "\n",
        "marks=float(input(\"Enter your marks: \"))\n",
        "if marks>=90:\n",
        "  print(\"Grade--->A+\")\n",
        "if marks>=80 and marks<90:\n",
        "  print(\"Grade--->A\")\n",
        "if marks>=65 and marks<80:\n",
        "  print(\"Grade--->B\")\n",
        "if marks>=33 and marks<65:\n",
        "  print(\"Grade--->C\")\n",
        "if marks<33:\n",
        "  print(\"Grade--->F\")"
      ],
      "metadata": {
        "colab": {
          "base_uri": "https://localhost:8080/"
        },
        "id": "AmAp96-zIloy",
        "outputId": "768fb47a-d9da-4e0d-d58c-43e2bc409538"
      },
      "execution_count": null,
      "outputs": [
        {
          "output_type": "stream",
          "name": "stdout",
          "text": [
            "Enter your marks: 100\n",
            "Grade--->A+\n"
          ]
        }
      ]
    },
    {
      "cell_type": "code",
      "source": [
        "marks=float(input(\"Enter your marks: \"))\n",
        "if marks>=90:\n",
        "  print(\"Grade--->A+\")\n",
        "elif marks>=80 and marks<90:\n",
        "  print(\"Grade--->A\")\n",
        "elif marks>=65 and marks<80:\n",
        "  print(\"Grade--->B\")\n",
        "elif marks>=33 and marks<65:\n",
        "  print(\"Grade--->C\")\n",
        "else:\n",
        "  print(\"Grade--->F\")"
      ],
      "metadata": {
        "colab": {
          "base_uri": "https://localhost:8080/"
        },
        "id": "6ier1mXQM4gr",
        "outputId": "63b336d4-86c2-46aa-b6c5-8c4305b2cea5"
      },
      "execution_count": null,
      "outputs": [
        {
          "output_type": "stream",
          "name": "stdout",
          "text": [
            "Enter your marks: 100\n",
            "Grade--->A+\n"
          ]
        }
      ]
    },
    {
      "cell_type": "code",
      "source": [
        "marks=float(input(\"Enter your marks: \"))\n",
        "if marks>=90:\n",
        "  print(\"Grade--->A+\")\n",
        "elif marks>=80:\n",
        "  print(\"Grade--->A\")\n",
        "elif marks>=65:\n",
        "  print(\"Grade--->B\")\n",
        "elif marks>=33:\n",
        "  print(\"Grade--->C\")\n",
        "else:\n",
        "  print(\"Grade--->F\")"
      ],
      "metadata": {
        "colab": {
          "base_uri": "https://localhost:8080/"
        },
        "id": "0b2EDIk0NQlE",
        "outputId": "32afb03e-b64c-4a22-f0d6-b922392feb49"
      },
      "execution_count": null,
      "outputs": [
        {
          "output_type": "stream",
          "name": "stdout",
          "text": [
            "Enter your marks: 40\n",
            "Grade--->C\n"
          ]
        }
      ]
    },
    {
      "cell_type": "code",
      "source": [
        "# Question: You are given 3 integers as the candidates for the sides of a triangle.\n",
        "# Find out whether the sides can form a triangle or not.\n",
        "\n",
        "num1=int(input(\"Enter length of 1st side: \"))\n",
        "num2=int(input(\"Enter length of 2nd side: \"))\n",
        "num3=int(input(\"Enter length of 3rd side: \"))\n",
        "if num1+num2>num3 and num2+num3>num1 and num1+num3>num2:\n",
        "  print(\"The sides form a triangle\")\n",
        "else:\n",
        "  print(\"The sides do not form a triangle\")\n",
        "\n",
        "\n",
        "\n"
      ],
      "metadata": {
        "colab": {
          "base_uri": "https://localhost:8080/"
        },
        "id": "1-wESyhVPAeq",
        "outputId": "462f2b65-5d9b-4315-94ad-c570681d4f1e"
      },
      "execution_count": null,
      "outputs": [
        {
          "output_type": "stream",
          "name": "stdout",
          "text": [
            "Enter length of 1st side: 3\n",
            "Enter length of 2nd side: 5\n",
            "Enter length of 3rd side: 2\n",
            "The sides do not form a triangle\n"
          ]
        }
      ]
    },
    {
      "cell_type": "code",
      "source": [
        "# Example for nested if...else\n",
        "# Question: You are given 3 integers as the candidates for the sides of a triangle.\n",
        "# Find out whether the sides can form a triangle or not and if it forms then also tell what type of triangle it is\n",
        "# \"Equilateral\" or \"Isoceles\" or \"Scalene\"\n",
        "\n",
        "num1=int(input(\"Enter length of 1st side: \"))\n",
        "num2=int(input(\"Enter length of 2nd side: \"))\n",
        "num3=int(input(\"Enter length of 3rd side: \"))\n",
        "if num1+num2>num3 and num2+num3>num1 and num1+num3>num2:\n",
        "  print(\"The sides form a triangle\")\n",
        "  if num1!=num2 and num2!=num3 and num3!=num1:\n",
        "    print(\"The sides form a Scalene triangle\")\n",
        "  elif num1==num2 and num3==num1:\n",
        "    print(\"The sides form an Euilateral Triangle\")\n",
        "  else:4\n",
        "    print(\"The sides form an Isoceles Triangle\")\n",
        "else:\n",
        "  print(\"The sides do not form a triangle\")"
      ],
      "metadata": {
        "colab": {
          "base_uri": "https://localhost:8080/"
        },
        "id": "pbxFad-WSeLA",
        "outputId": "951c472a-b1a0-4deb-d209-ae7ec60bd10c"
      },
      "execution_count": null,
      "outputs": [
        {
          "output_type": "stream",
          "name": "stdout",
          "text": [
            "Enter length of 1st side: 3\n",
            "Enter length of 2nd side: 4\n",
            "Enter length of 3rd side: 100\n",
            "The sides do not form a triangle\n"
          ]
        }
      ]
    },
    {
      "cell_type": "code",
      "source": [],
      "metadata": {
        "id": "MIhMFOv_VUpA"
      },
      "execution_count": null,
      "outputs": []
    }
  ]
}