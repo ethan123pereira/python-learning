{
  "nbformat": 4,
  "nbformat_minor": 0,
  "metadata": {
    "colab": {
      "provenance": []
    },
    "kernelspec": {
      "name": "python3",
      "display_name": "Python 3"
    },
    "language_info": {
      "name": "python"
    }
  },
  "cells": [
    {
      "cell_type": "code",
      "source": [
        "#First program\n",
        "print(\"hello world\")"
      ],
      "metadata": {
        "colab": {
          "base_uri": "https://localhost:8080/"
        },
        "id": "QapTNiwT5p-5",
        "outputId": "a7c57669-e4b2-4380-96c9-20f5e26ccfec"
      },
      "execution_count": 2,
      "outputs": [
        {
          "output_type": "stream",
          "name": "stdout",
          "text": [
            "hello world\n"
          ]
        }
      ]
    },
    {
      "cell_type": "code",
      "source": [
        "print(\"Hello-World\")\n",
        "print(\"Hello-World\")"
      ],
      "metadata": {
        "colab": {
          "base_uri": "https://localhost:8080/"
        },
        "id": "u6Gc0p846QMh",
        "outputId": "12384923-7650-4f21-a4e9-878739ce2b14"
      },
      "execution_count": 3,
      "outputs": [
        {
          "output_type": "stream",
          "name": "stdout",
          "text": [
            "Hello-World\n",
            "Hello-World\n"
          ]
        }
      ]
    },
    {
      "cell_type": "code",
      "source": [
        "#To print a statement without a new line, we can use 'end' parameter of the print function\n",
        "\n",
        "print(\"Hello-World\",end=' ')\n",
        "print(\"Hello-World\")"
      ],
      "metadata": {
        "id": "sqWQx2zb7R-w",
        "colab": {
          "base_uri": "https://localhost:8080/"
        },
        "outputId": "5f331377-bb50-4081-b519-256f38ea024b"
      },
      "execution_count": 4,
      "outputs": [
        {
          "output_type": "stream",
          "name": "stdout",
          "text": [
            "Hello-World Hello-World\n"
          ]
        }
      ]
    },
    {
      "cell_type": "code",
      "source": [
        "print(\"Hello-World\",end='')\n",
        "print(\"Hello-World\")"
      ],
      "metadata": {
        "colab": {
          "base_uri": "https://localhost:8080/"
        },
        "id": "U8-emq1i_0WM",
        "outputId": "a0bdfe8d-27f8-44f7-c801-3ee698549d30"
      },
      "execution_count": 5,
      "outputs": [
        {
          "output_type": "stream",
          "name": "stdout",
          "text": [
            "Hello-WorldHello-World\n"
          ]
        }
      ]
    },
    {
      "cell_type": "code",
      "source": [
        "print(\"Hello-World\",end='#')\n",
        "print(\"Hello-World\")"
      ],
      "metadata": {
        "colab": {
          "base_uri": "https://localhost:8080/"
        },
        "id": "ISzOSwZp_5ST",
        "outputId": "d723e9ef-ed2a-480c-fac0-e4191b11370c"
      },
      "execution_count": 6,
      "outputs": [
        {
          "output_type": "stream",
          "name": "stdout",
          "text": [
            "Hello-World#Hello-World\n"
          ]
        }
      ]
    },
    {
      "cell_type": "code",
      "source": [
        "# Python variables and literals\n",
        "# Variables are containers that store data\n",
        "# Defining a variable\n",
        "var = 10\n"
      ],
      "metadata": {
        "id": "jHbfztoV_8cz"
      },
      "execution_count": 7,
      "outputs": []
    },
    {
      "cell_type": "code",
      "source": [
        "print(var)"
      ],
      "metadata": {
        "colab": {
          "base_uri": "https://localhost:8080/"
        },
        "id": "BM8IQrHUA_b3",
        "outputId": "113aa510-0e7e-4fe0-e58b-fdb3a9cde486"
      },
      "execution_count": 8,
      "outputs": [
        {
          "output_type": "stream",
          "name": "stdout",
          "text": [
            "10\n"
          ]
        }
      ]
    },
    {
      "cell_type": "code",
      "source": [
        "# Changing the variable\n",
        "var=25\n",
        "print(var)"
      ],
      "metadata": {
        "colab": {
          "base_uri": "https://localhost:8080/"
        },
        "id": "HuYFAMkTBCrd",
        "outputId": "e94a8dd7-2aa3-4114-b319-9607112be932"
      },
      "execution_count": 9,
      "outputs": [
        {
          "output_type": "stream",
          "name": "stdout",
          "text": [
            "25\n"
          ]
        }
      ]
    },
    {
      "cell_type": "code",
      "source": [
        "a = 10\n",
        "b = 20\n",
        "c = 30"
      ],
      "metadata": {
        "id": "NBRby8H7BO6a"
      },
      "execution_count": 10,
      "outputs": []
    },
    {
      "cell_type": "code",
      "source": [
        "a,b,c=10,20,30"
      ],
      "metadata": {
        "id": "Eb1qIlbsBiWw"
      },
      "execution_count": 11,
      "outputs": []
    },
    {
      "cell_type": "code",
      "source": [
        "print(a,b,c)"
      ],
      "metadata": {
        "colab": {
          "base_uri": "https://localhost:8080/"
        },
        "id": "Cy7e2basBpmE",
        "outputId": "c5e6349e-585a-4b1e-e1d6-e0e6757b3edc"
      },
      "execution_count": 12,
      "outputs": [
        {
          "output_type": "stream",
          "name": "stdout",
          "text": [
            "10 20 30\n"
          ]
        }
      ]
    },
    {
      "cell_type": "code",
      "source": [
        "print(a,b,c,sep='')"
      ],
      "metadata": {
        "colab": {
          "base_uri": "https://localhost:8080/"
        },
        "id": "d7Dvt-qpB3if",
        "outputId": "7a1d23e5-a1c2-4551-9925-d35d0be856b8"
      },
      "execution_count": 13,
      "outputs": [
        {
          "output_type": "stream",
          "name": "stdout",
          "text": [
            "102030\n"
          ]
        }
      ]
    },
    {
      "cell_type": "code",
      "source": [
        "print(a,b,c,sep=' ')"
      ],
      "metadata": {
        "colab": {
          "base_uri": "https://localhost:8080/"
        },
        "id": "1m3DtCEpCWqI",
        "outputId": "688d3be2-75df-47a3-99c2-3be5ae2ab63c"
      },
      "execution_count": 14,
      "outputs": [
        {
          "output_type": "stream",
          "name": "stdout",
          "text": [
            "10 20 30\n"
          ]
        }
      ]
    },
    {
      "cell_type": "code",
      "source": [
        "print(a,b,c,sep='#')"
      ],
      "metadata": {
        "colab": {
          "base_uri": "https://localhost:8080/"
        },
        "id": "lP_7fnq1CjIq",
        "outputId": "e077306e-f584-4e0e-94a2-7b6f83a974f9"
      },
      "execution_count": 15,
      "outputs": [
        {
          "output_type": "stream",
          "name": "stdout",
          "text": [
            "10#20#30\n"
          ]
        }
      ]
    },
    {
      "cell_type": "code",
      "source": [
        "# Types of literals\n",
        "#1.Integers\n",
        "#2.Float\n",
        "#3.Complex\n",
        "#4.String\n",
        "#5.Boolean\n"
      ],
      "metadata": {
        "id": "dpsTW9O3CpwQ"
      },
      "execution_count": 16,
      "outputs": []
    },
    {
      "cell_type": "code",
      "source": [
        "# Data types: it tells what type of data we have."
      ],
      "metadata": {
        "id": "OrqH1C3NDSeQ"
      },
      "execution_count": 17,
      "outputs": []
    },
    {
      "cell_type": "code",
      "source": [
        "a=10 # Integer\n",
        "b=10.4 #Float\n",
        "c='Ethan' #String\n",
        "d= True #Boolean"
      ],
      "metadata": {
        "id": "7TetT3ocDlkF"
      },
      "execution_count": 18,
      "outputs": []
    },
    {
      "cell_type": "code",
      "source": [
        "#How to check datatypes\n",
        "# Use type() function"
      ],
      "metadata": {
        "id": "Eitq3gY0D541"
      },
      "execution_count": 19,
      "outputs": []
    },
    {
      "cell_type": "code",
      "source": [
        "print(type(a))\n"
      ],
      "metadata": {
        "colab": {
          "base_uri": "https://localhost:8080/"
        },
        "id": "wlt8dU2vEC3T",
        "outputId": "4c322f9d-15c1-4e3f-bf8f-dc4d3a46841d"
      },
      "execution_count": 20,
      "outputs": [
        {
          "output_type": "stream",
          "name": "stdout",
          "text": [
            "<class 'int'>\n"
          ]
        }
      ]
    },
    {
      "cell_type": "code",
      "source": [
        "type(b)"
      ],
      "metadata": {
        "colab": {
          "base_uri": "https://localhost:8080/"
        },
        "id": "J6xLeOjTEXsp",
        "outputId": "8fbe1f18-adbf-401f-d2e4-fdfd4fbb5240"
      },
      "execution_count": 21,
      "outputs": [
        {
          "output_type": "execute_result",
          "data": {
            "text/plain": [
              "float"
            ]
          },
          "metadata": {},
          "execution_count": 21
        }
      ]
    },
    {
      "cell_type": "code",
      "source": [
        "type(c)"
      ],
      "metadata": {
        "colab": {
          "base_uri": "https://localhost:8080/"
        },
        "id": "PqTUfzH4EaEg",
        "outputId": "71125795-e88d-4c76-edc6-ea1a6b021c4b"
      },
      "execution_count": 22,
      "outputs": [
        {
          "output_type": "execute_result",
          "data": {
            "text/plain": [
              "str"
            ]
          },
          "metadata": {},
          "execution_count": 22
        }
      ]
    },
    {
      "cell_type": "code",
      "source": [
        "type(d)"
      ],
      "metadata": {
        "colab": {
          "base_uri": "https://localhost:8080/"
        },
        "id": "LShEaEUaEcLW",
        "outputId": "f9382a5c-4f7d-49f1-8825-bc96127a85e3"
      },
      "execution_count": 23,
      "outputs": [
        {
          "output_type": "execute_result",
          "data": {
            "text/plain": [
              "bool"
            ]
          },
          "metadata": {},
          "execution_count": 23
        }
      ]
    },
    {
      "cell_type": "code",
      "source": [
        "type(2+4j)"
      ],
      "metadata": {
        "colab": {
          "base_uri": "https://localhost:8080/"
        },
        "id": "QdpJzX-tEd3Q",
        "outputId": "9825cfbd-14a2-4a49-efaf-1a867a93a52c"
      },
      "execution_count": 24,
      "outputs": [
        {
          "output_type": "execute_result",
          "data": {
            "text/plain": [
              "complex"
            ]
          },
          "metadata": {},
          "execution_count": 24
        }
      ]
    },
    {
      "cell_type": "code",
      "source": [
        "# Type conversion\n",
        "a = 10\n",
        "b = 12.5"
      ],
      "metadata": {
        "id": "-VBrZa3dElz-"
      },
      "execution_count": 25,
      "outputs": []
    },
    {
      "cell_type": "code",
      "source": [
        "c=a+b"
      ],
      "metadata": {
        "id": "UXw0KD0fE0aS"
      },
      "execution_count": 26,
      "outputs": []
    },
    {
      "cell_type": "code",
      "source": [
        "print(c)"
      ],
      "metadata": {
        "colab": {
          "base_uri": "https://localhost:8080/"
        },
        "id": "vw5YycfOE1to",
        "outputId": "84cd02e1-330a-465b-8de7-1f21a58fd1e6"
      },
      "execution_count": 27,
      "outputs": [
        {
          "output_type": "stream",
          "name": "stdout",
          "text": [
            "22.5\n"
          ]
        }
      ]
    },
    {
      "cell_type": "code",
      "source": [
        "# here type gets converted automatically, this type of conversion is called implicit conversion\n",
        "type(c)"
      ],
      "metadata": {
        "colab": {
          "base_uri": "https://localhost:8080/"
        },
        "id": "LjLvL99NFDdT",
        "outputId": "843ea78f-33c3-463f-b302-a90f095d887c"
      },
      "execution_count": 28,
      "outputs": [
        {
          "output_type": "execute_result",
          "data": {
            "text/plain": [
              "float"
            ]
          },
          "metadata": {},
          "execution_count": 28
        }
      ]
    },
    {
      "cell_type": "code",
      "source": [
        "# here we tell python specifically to convert the data, this type of conversion is called explicit conversion"
      ],
      "metadata": {
        "id": "Ta1lVXXAFGYY"
      },
      "execution_count": 29,
      "outputs": []
    },
    {
      "cell_type": "code",
      "source": [
        "# int to float\n",
        "a=10\n",
        "print(type(a))\n",
        "a=float(a)\n",
        "print(a)\n",
        "print(type(a))\n"
      ],
      "metadata": {
        "colab": {
          "base_uri": "https://localhost:8080/"
        },
        "id": "FeWQM7UGHhUj",
        "outputId": "8085f0d6-c5da-40e8-db73-f08c79584e8d"
      },
      "execution_count": 30,
      "outputs": [
        {
          "output_type": "stream",
          "name": "stdout",
          "text": [
            "<class 'int'>\n",
            "10.0\n",
            "<class 'float'>\n"
          ]
        }
      ]
    },
    {
      "cell_type": "code",
      "source": [
        "# float to integer\n",
        "a = 10.5\n",
        "print(type(a))\n",
        "a=int(a)\n",
        "print(type(a))\n",
        "\n"
      ],
      "metadata": {
        "colab": {
          "base_uri": "https://localhost:8080/"
        },
        "id": "CeCzAZWyHj7K",
        "outputId": "9827a6f4-cbfd-47d1-d5bf-f25c0fa31bb2"
      },
      "execution_count": 31,
      "outputs": [
        {
          "output_type": "stream",
          "name": "stdout",
          "text": [
            "<class 'float'>\n",
            "<class 'int'>\n"
          ]
        }
      ]
    },
    {
      "cell_type": "code",
      "source": [
        "# String to integer\n",
        "str_var='12345'\n",
        "print(type(str_var))\n",
        "str_var=int(str_var)\n",
        "print(str_var)\n",
        "print(type(str_var))"
      ],
      "metadata": {
        "colab": {
          "base_uri": "https://localhost:8080/"
        },
        "id": "VAT3f0DjIlsc",
        "outputId": "afb4ca00-7412-4901-86b9-5fccaaa8638c"
      },
      "execution_count": 32,
      "outputs": [
        {
          "output_type": "stream",
          "name": "stdout",
          "text": [
            "<class 'str'>\n",
            "12345\n",
            "<class 'int'>\n"
          ]
        }
      ]
    },
    {
      "cell_type": "code",
      "source": [
        "# Key Points to Remember\n",
        "# Type Conversion is the conversion of an object from one data type to another data type.\n",
        "# Implicit Type Conversion is automatically performed by the Python interpreter.\n",
        "# Python avoids the loss of data in Implicit Type Conversion.\n",
        "# Explicit Type Conversion is also called Type Casting, the data types of objects are converted using predefined functions by the user.\n",
        "# In Type Casting, loss of data may occur as we enforce the object to a specific data type."
      ],
      "metadata": {
        "id": "h_ituHjkI8e5"
      },
      "execution_count": 33,
      "outputs": []
    },
    {
      "cell_type": "code",
      "source": [
        "# Question: Write a program that takes rwo integers as input from user and gives the sum of numbers as o/p"
      ],
      "metadata": {
        "id": "t1mxxODyJ6Ux"
      },
      "execution_count": 34,
      "outputs": []
    },
    {
      "cell_type": "code",
      "source": [
        "# Taking input from user\n",
        "a = input(\"Enter a number\")\n",
        "b = input(\"Enter a number\")\n",
        "c=a+b\n",
        "print('sum=',c)"
      ],
      "metadata": {
        "colab": {
          "base_uri": "https://localhost:8080/"
        },
        "id": "7JIVnYCNKILY",
        "outputId": "390e6763-6541-4965-c2d6-a4b1b9815128"
      },
      "execution_count": 35,
      "outputs": [
        {
          "output_type": "stream",
          "name": "stdout",
          "text": [
            "Enter a number4\n",
            "Enter a number3\n",
            "sum= 43\n"
          ]
        }
      ]
    },
    {
      "cell_type": "code",
      "source": [
        "# input function takes argument as string, to take the input as integer, we have to typecasting\n",
        "a = int(input(\"Enter a number:\"))\n",
        "b = int(input(\"Enter a number:\"))\n",
        "c=a+b\n",
        "print('sum=',c)"
      ],
      "metadata": {
        "colab": {
          "base_uri": "https://localhost:8080/"
        },
        "id": "xbJL-H67K2rC",
        "outputId": "cb933086-d51c-4cb0-ac94-ed24fa338ee0"
      },
      "execution_count": 36,
      "outputs": [
        {
          "output_type": "stream",
          "name": "stdout",
          "text": [
            "Enter a number:4\n",
            "Enter a number:3\n",
            "sum= 7\n"
          ]
        }
      ]
    },
    {
      "cell_type": "code",
      "source": [
        "# Python Operators\n",
        "# Operators: Operators are basic symbols that performs basic operations of varibles and literals."
      ],
      "metadata": {
        "id": "8ayxbepxLnrA"
      },
      "execution_count": 37,
      "outputs": []
    },
    {
      "cell_type": "code",
      "source": [
        "#1.Arithmatic Operators:\n",
        "a=10\n",
        "b=20\n",
        "c=a+b\n",
        "print(c)\n",
        "\n"
      ],
      "metadata": {
        "colab": {
          "base_uri": "https://localhost:8080/"
        },
        "id": "Hsvg402TMeil",
        "outputId": "b8cc9f91-8af5-462e-a48a-4b4bace22138"
      },
      "execution_count": 38,
      "outputs": [
        {
          "output_type": "stream",
          "name": "stdout",
          "text": [
            "30\n"
          ]
        }
      ]
    },
    {
      "cell_type": "code",
      "source": [
        "#float value of division\n",
        "a=5\n",
        "b=2\n",
        "c=a/b\n",
        "print(c)"
      ],
      "metadata": {
        "id": "3L_SW20jMuh_",
        "colab": {
          "base_uri": "https://localhost:8080/"
        },
        "outputId": "63da31ef-fbca-4b9f-da40-ec25c19afd1d"
      },
      "execution_count": 39,
      "outputs": [
        {
          "output_type": "stream",
          "name": "stdout",
          "text": [
            "2.5\n"
          ]
        }
      ]
    },
    {
      "cell_type": "code",
      "source": [
        "#integer value of divison\n",
        "a=5\n",
        "b=2\n",
        "c=a//b\n",
        "print(c)"
      ],
      "metadata": {
        "colab": {
          "base_uri": "https://localhost:8080/"
        },
        "id": "JPvLjjLjg0UZ",
        "outputId": "788291ee-aaa1-4052-a892-6e589725a306"
      },
      "execution_count": 40,
      "outputs": [
        {
          "output_type": "stream",
          "name": "stdout",
          "text": [
            "2\n"
          ]
        }
      ]
    },
    {
      "cell_type": "code",
      "source": [
        "#to print remainder\n",
        "a=5\n",
        "b=2\n",
        "c=a%b\n",
        "print(c)"
      ],
      "metadata": {
        "colab": {
          "base_uri": "https://localhost:8080/"
        },
        "id": "0evDWWCEhG96",
        "outputId": "d0197d90-dee9-4a88-a247-ffdec258f393"
      },
      "execution_count": 41,
      "outputs": [
        {
          "output_type": "stream",
          "name": "stdout",
          "text": [
            "1\n"
          ]
        }
      ]
    },
    {
      "cell_type": "code",
      "source": [],
      "metadata": {
        "id": "O6gmywgPhRag"
      },
      "execution_count": 41,
      "outputs": []
    }
  ]
}