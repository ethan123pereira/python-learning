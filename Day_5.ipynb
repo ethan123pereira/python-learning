{
  "nbformat": 4,
  "nbformat_minor": 0,
  "metadata": {
    "colab": {
      "provenance": []
    },
    "kernelspec": {
      "name": "python3",
      "display_name": "Python 3"
    },
    "language_info": {
      "name": "python"
    }
  },
  "cells": [
    {
      "cell_type": "code",
      "execution_count": 21,
      "metadata": {
        "colab": {
          "base_uri": "https://localhost:8080/"
        },
        "id": "t6F9b4ghpbkg",
        "outputId": "b9cb3230-7985-42c8-fbf4-082f482fa0a6"
      },
      "outputs": [
        {
          "output_type": "stream",
          "name": "stdout",
          "text": [
            "Enter 1st number:3\n",
            "Enter 2nd number:3\n",
            "Enter 3rd number:3\n",
            "All three numbers are equal\n"
          ]
        }
      ],
      "source": [
        "# Question: Given three integers, and write a program to output maximmum among them\n",
        "\n",
        "a=int(input(\"Enter 1st number:\"))\n",
        "b=int(input(\"Enter 2nd number:\"))\n",
        "c=int(input(\"Enter 3rd number:\"))\n",
        "if a==b and b==c:\n",
        "  print(\"All three numbers are equal\")\n",
        "elif a>=b and a>=c:\n",
        "  print(a,\"is greater\")\n",
        "elif b>=c:\n",
        "  print(b,\"is greater\")\n",
        "else:\n",
        "  print(c,\"is greater\")"
      ]
    },
    {
      "cell_type": "code",
      "source": [
        "# Question: Take 3 integers as the sides of a triangle, check if the triangle is a right angle triangle\n",
        "a=int(input(\"Enter 1st number:\"))\n",
        "b=int(input(\"Enter 2nd number:\"))\n",
        "c=int(input(\"Enter 3rd number:\"))\n",
        "hyp=-1\n",
        "base=-1\n",
        "perpendicular=-1\n",
        "if a>=b and a>=c:\n",
        "  hyp=a\n",
        "  base=b\n",
        "  perpendicular=c\n",
        "elif b>=c:\n",
        "  hyp=b\n",
        "  base=a\n",
        "  perpendicular=c\n",
        "else:\n",
        "  hyp=c\n",
        "  base=b\n",
        "  perpendicular=a\n",
        "\n",
        "if hyp**2 == (base**2)+(perpendicular**2):\n",
        "  print(\"It's a right angle triangle\")\n",
        "else:\n",
        "  print(\"Not a right angle triangle\")\n"
      ],
      "metadata": {
        "colab": {
          "base_uri": "https://localhost:8080/"
        },
        "id": "TP4F__wJugLq",
        "outputId": "b4fd2fb6-b57e-463b-b9f3-5cd92d53bc52"
      },
      "execution_count": 24,
      "outputs": [
        {
          "output_type": "stream",
          "name": "stdout",
          "text": [
            "Enter 1st number:3\n",
            "Enter 2nd number:4\n",
            "Enter 3rd number:5\n",
            "It's a right angle triangle\n"
          ]
        }
      ]
    },
    {
      "cell_type": "code",
      "source": [
        "# Question: Take an integer from user input that represents the number of pi electrons in a  cyclic consecuted systems\n",
        "# Find out whether the compound is aromatic or not\n",
        "number_of_pi_electrons=int(input(\"Enter the number of pi electrons: \"))\n",
        "if number_of_pi_electrons%4==2:\n",
        "  print(\"Compound is aromatic\")\n",
        "else:\n",
        "  print(\"Compund is not aromatic\")\n"
      ],
      "metadata": {
        "colab": {
          "base_uri": "https://localhost:8080/"
        },
        "id": "YsWhxUtvzWnq",
        "outputId": "f2d55c78-cb59-4cc6-9b5c-41144a98e6f3"
      },
      "execution_count": 26,
      "outputs": [
        {
          "output_type": "stream",
          "name": "stdout",
          "text": [
            "Enter the number of pi electrons: 8\n",
            "Compund is not aromatic\n"
          ]
        }
      ]
    },
    {
      "cell_type": "code",
      "source": [
        "# Loops: Loops are finctions  available in programming by which we can perform\n",
        "# Some statements again and again with differnt or same inputs.(in simple words, it's repeatations of statements with same or different values)"
      ],
      "metadata": {
        "id": "ORRz9ChJ3loB"
      },
      "execution_count": 27,
      "outputs": []
    },
    {
      "cell_type": "code",
      "source": [
        "# for loop\n",
        "li=[1,5,6,9,10]\n",
        "print(li)"
      ],
      "metadata": {
        "colab": {
          "base_uri": "https://localhost:8080/"
        },
        "id": "jvTqq2Ly4mjh",
        "outputId": "5304dda2-c8f6-4310-daf2-9087dbda1178"
      },
      "execution_count": 28,
      "outputs": [
        {
          "output_type": "stream",
          "name": "stdout",
          "text": [
            "[1, 5, 6, 9, 10]\n"
          ]
        }
      ]
    },
    {
      "cell_type": "code",
      "source": [
        "for i in range(1, 10, 2):\n",
        "  print(i)"
      ],
      "metadata": {
        "colab": {
          "base_uri": "https://localhost:8080/"
        },
        "id": "Z-Lcx2q78W25",
        "outputId": "68d1c537-ce64-456e-88b8-4e9fb3ad7b66"
      },
      "execution_count": 29,
      "outputs": [
        {
          "output_type": "stream",
          "name": "stdout",
          "text": [
            "1\n",
            "3\n",
            "5\n",
            "7\n",
            "9\n"
          ]
        }
      ]
    },
    {
      "cell_type": "code",
      "source": [
        "# Question: Write a program that takes integers and print the table of that number\n",
        "\n",
        "num=int(input(\"Enter a number: \"))\n",
        "till=int(input(\"Enter the last multiple: \"))\n",
        "for i in range(1,till+1):\n",
        "  print(f\"{num}x{i}={num*i}\")"
      ],
      "metadata": {
        "colab": {
          "base_uri": "https://localhost:8080/"
        },
        "id": "gusc4e868wQS",
        "outputId": "b2df04dc-5f1f-4998-837c-c3a9415e4986"
      },
      "execution_count": 32,
      "outputs": [
        {
          "output_type": "stream",
          "name": "stdout",
          "text": [
            "Enter a number: 5\n",
            "Enter the last multiple: 20\n",
            "5x1=5\n",
            "5x2=10\n",
            "5x3=15\n",
            "5x4=20\n",
            "5x5=25\n",
            "5x6=30\n",
            "5x7=35\n",
            "5x8=40\n",
            "5x9=45\n",
            "5x10=50\n",
            "5x11=55\n",
            "5x12=60\n",
            "5x13=65\n",
            "5x14=70\n",
            "5x15=75\n",
            "5x16=80\n",
            "5x17=85\n",
            "5x18=90\n",
            "5x19=95\n",
            "5x20=100\n"
          ]
        }
      ]
    },
    {
      "cell_type": "code",
      "source": [
        "val=0\n",
        "num=4\n",
        "for i in range(1,11):\n",
        "  val+=num\n",
        "  print(val)"
      ],
      "metadata": {
        "colab": {
          "base_uri": "https://localhost:8080/"
        },
        "id": "cayYMP-q-fVn",
        "outputId": "c534960e-59da-45ed-d646-0ab29224cb3b"
      },
      "execution_count": 31,
      "outputs": [
        {
          "output_type": "stream",
          "name": "stdout",
          "text": [
            "4\n",
            "8\n",
            "12\n",
            "16\n",
            "20\n",
            "24\n",
            "28\n",
            "32\n",
            "36\n",
            "40\n"
          ]
        }
      ]
    },
    {
      "cell_type": "code",
      "source": [],
      "metadata": {
        "id": "eXzpQhsZ_nm5"
      },
      "execution_count": null,
      "outputs": []
    }
  ]
}