{
  "nbformat": 4,
  "nbformat_minor": 0,
  "metadata": {
    "colab": {
      "provenance": []
    },
    "kernelspec": {
      "name": "python3",
      "display_name": "Python 3"
    },
    "language_info": {
      "name": "python"
    }
  },
  "cells": [
    {
      "cell_type": "code",
      "execution_count": 12,
      "metadata": {
        "id": "1krbp0V4XncH"
      },
      "outputs": [],
      "source": [
        "# Logical Operators: These operators are used to check if an expression is True or False following some certain rule\n",
        "# and operator: Both the expressions should be true for and operator\n",
        "exp1 = True and False\n",
        "exp2 = True and True\n",
        "exp3 = False and True\n",
        "exp4 = False and False"
      ]
    },
    {
      "cell_type": "code",
      "source": [
        "print(exp1)"
      ],
      "metadata": {
        "colab": {
          "base_uri": "https://localhost:8080/"
        },
        "id": "b4v6zwFJawlR",
        "outputId": "70173372-5ab2-4ccd-a312-bc1060521147"
      },
      "execution_count": 2,
      "outputs": [
        {
          "output_type": "stream",
          "name": "stdout",
          "text": [
            "False\n"
          ]
        }
      ]
    },
    {
      "cell_type": "code",
      "source": [
        "print(exp2)"
      ],
      "metadata": {
        "colab": {
          "base_uri": "https://localhost:8080/"
        },
        "id": "wnpdNndMa2Uq",
        "outputId": "b2613534-0885-4733-9178-b009fcc6d502"
      },
      "execution_count": 3,
      "outputs": [
        {
          "output_type": "stream",
          "name": "stdout",
          "text": [
            "True\n"
          ]
        }
      ]
    },
    {
      "cell_type": "code",
      "source": [
        "print(exp3)"
      ],
      "metadata": {
        "colab": {
          "base_uri": "https://localhost:8080/"
        },
        "id": "-iqIQRhLa45v",
        "outputId": "9d1ae069-45b9-4a1b-c39c-43c1df5a14dc"
      },
      "execution_count": 4,
      "outputs": [
        {
          "output_type": "stream",
          "name": "stdout",
          "text": [
            "False\n"
          ]
        }
      ]
    },
    {
      "cell_type": "code",
      "source": [
        "print(exp4)"
      ],
      "metadata": {
        "colab": {
          "base_uri": "https://localhost:8080/"
        },
        "id": "E_rGI8uea6nA",
        "outputId": "0df3af47-d760-47ad-97d4-dd9e6c74e132"
      },
      "execution_count": 6,
      "outputs": [
        {
          "output_type": "stream",
          "name": "stdout",
          "text": [
            "False\n"
          ]
        }
      ]
    },
    {
      "cell_type": "code",
      "source": [
        "# or operator: Atleast 1 expression should be true for or operator and both should be false for the answer to be false\n",
        "exp1 = True or False\n",
        "exp2 = True or True\n",
        "exp3 = False or True\n",
        "exp4 = False or False"
      ],
      "metadata": {
        "id": "_zaq-_MRa-nd"
      },
      "execution_count": 13,
      "outputs": []
    },
    {
      "cell_type": "code",
      "source": [
        "print(exp1)"
      ],
      "metadata": {
        "colab": {
          "base_uri": "https://localhost:8080/"
        },
        "id": "KGajoCMJbVOJ",
        "outputId": "e1df8903-eca0-40e6-90f5-1c0d9d847790"
      },
      "execution_count": 8,
      "outputs": [
        {
          "output_type": "stream",
          "name": "stdout",
          "text": [
            "True\n"
          ]
        }
      ]
    },
    {
      "cell_type": "code",
      "source": [
        "print(exp2)"
      ],
      "metadata": {
        "colab": {
          "base_uri": "https://localhost:8080/"
        },
        "id": "wlAh11UmbZCY",
        "outputId": "83ed1ee5-297d-4df8-eec8-43d6f746cf28"
      },
      "execution_count": 9,
      "outputs": [
        {
          "output_type": "stream",
          "name": "stdout",
          "text": [
            "True\n"
          ]
        }
      ]
    },
    {
      "cell_type": "code",
      "source": [
        "print(exp3)"
      ],
      "metadata": {
        "colab": {
          "base_uri": "https://localhost:8080/"
        },
        "id": "vcgdWK0VbbEJ",
        "outputId": "370753f9-11b4-4652-d571-b8974c188951"
      },
      "execution_count": 10,
      "outputs": [
        {
          "output_type": "stream",
          "name": "stdout",
          "text": [
            "True\n"
          ]
        }
      ]
    },
    {
      "cell_type": "code",
      "source": [
        "print(exp4)"
      ],
      "metadata": {
        "colab": {
          "base_uri": "https://localhost:8080/"
        },
        "id": "TcT-1CfBbc26",
        "outputId": "a8b3d5bb-3068-4a85-c7e1-420f40d4dc35"
      },
      "execution_count": 11,
      "outputs": [
        {
          "output_type": "stream",
          "name": "stdout",
          "text": [
            "False\n"
          ]
        }
      ]
    },
    {
      "cell_type": "code",
      "source": [
        "# Exercise\n",
        "# 1\n",
        "exp_1 = 5>10\n",
        "exp_2 = 10>4\n",
        "print(exp_1 or exp_2)"
      ],
      "metadata": {
        "colab": {
          "base_uri": "https://localhost:8080/"
        },
        "id": "FwWUW2BgbfoB",
        "outputId": "9c1a96d3-fabc-4257-b120-31f2fd4eed44"
      },
      "execution_count": 16,
      "outputs": [
        {
          "output_type": "stream",
          "name": "stdout",
          "text": [
            "True\n"
          ]
        }
      ]
    },
    {
      "cell_type": "code",
      "source": [
        "exp_1 = (45 >= 34)\n",
        "exp_2 =(23 > 34)\n",
        "exp_3 = (12>3)\n",
        "exp_4 = (45 > 43)\n",
        "print(exp_1 and exp_2 and exp_3 and exp_4)"
      ],
      "metadata": {
        "colab": {
          "base_uri": "https://localhost:8080/"
        },
        "id": "vnD5hnygct-n",
        "outputId": "720f818e-88b5-461a-ef0b-87d725aeb1cf"
      },
      "execution_count": 17,
      "outputs": [
        {
          "output_type": "stream",
          "name": "stdout",
          "text": [
            "False\n"
          ]
        }
      ]
    },
    {
      "cell_type": "code",
      "source": [
        "print(exp_1 or exp_2 or exp_3 or exp_4)"
      ],
      "metadata": {
        "colab": {
          "base_uri": "https://localhost:8080/"
        },
        "id": "ar-stgTre9cG",
        "outputId": "f7081d7b-004c-4622-96c6-b93dfde3e90e"
      },
      "execution_count": 18,
      "outputs": [
        {
          "output_type": "stream",
          "name": "stdout",
          "text": [
            "True\n"
          ]
        }
      ]
    },
    {
      "cell_type": "code",
      "source": [
        "exp_1 = (45 >= 34)\n",
        "exp_2 =(23 > 10)\n",
        "exp_3 = (12>3)\n",
        "exp_4 = (45 > 43)\n",
        "print(exp_1 and exp_2 and exp_3 and exp_4)"
      ],
      "metadata": {
        "colab": {
          "base_uri": "https://localhost:8080/"
        },
        "outputId": "eeb77118-be8d-4b29-f0c6-3704681ea318",
        "id": "fUv53LYFfkNu"
      },
      "execution_count": 19,
      "outputs": [
        {
          "output_type": "stream",
          "name": "stdout",
          "text": [
            "True\n"
          ]
        }
      ]
    },
    {
      "cell_type": "code",
      "source": [
        "# not operator\n",
        "print(not(45 > 23))"
      ],
      "metadata": {
        "colab": {
          "base_uri": "https://localhost:8080/"
        },
        "id": "LHERE4JSf2rX",
        "outputId": "9b42fa8e-c606-46fe-a4a7-f9ea028f6f29"
      },
      "execution_count": 20,
      "outputs": [
        {
          "output_type": "stream",
          "name": "stdout",
          "text": [
            "False\n"
          ]
        }
      ]
    },
    {
      "cell_type": "code",
      "source": [
        "# Bitwise operators: These operations takes the bit representation of the operands and do operations on all bits,\n",
        "# Bit by bit\n"
      ],
      "metadata": {
        "id": "e0xNmyi8gCiR"
      },
      "execution_count": 21,
      "outputs": []
    },
    {
      "cell_type": "code",
      "source": [
        "# and (&)\n",
        "# or (|)\n",
        "# xor (^)\n",
        "# not(~)\n",
        "# right shift(>>)\n",
        "# left shift(<<)"
      ],
      "metadata": {
        "id": "DYSacnXDnbQS"
      },
      "execution_count": 22,
      "outputs": []
    },
    {
      "cell_type": "code",
      "source": [
        "# Examples:\n",
        "print(0 & 1) # & operation"
      ],
      "metadata": {
        "colab": {
          "base_uri": "https://localhost:8080/"
        },
        "id": "IL38JAz7n6X5",
        "outputId": "ee00c6be-a57c-46e3-f3ce-1781aae797f9"
      },
      "execution_count": 23,
      "outputs": [
        {
          "output_type": "stream",
          "name": "stdout",
          "text": [
            "0\n"
          ]
        }
      ]
    },
    {
      "cell_type": "code",
      "source": [
        "print(0 | 1) # | opertion"
      ],
      "metadata": {
        "colab": {
          "base_uri": "https://localhost:8080/"
        },
        "id": "6Lhd1Ok6pB6c",
        "outputId": "1b325dd2-2af6-4c74-c9f2-b305dc3e0fd2"
      },
      "execution_count": 24,
      "outputs": [
        {
          "output_type": "stream",
          "name": "stdout",
          "text": [
            "1\n"
          ]
        }
      ]
    },
    {
      "cell_type": "code",
      "source": [
        "print(5 & 3) # & operation"
      ],
      "metadata": {
        "colab": {
          "base_uri": "https://localhost:8080/"
        },
        "id": "Xbu0ge6YpNXj",
        "outputId": "2083001c-5476-4f33-fa73-0ca1be5f7bf7"
      },
      "execution_count": 25,
      "outputs": [
        {
          "output_type": "stream",
          "name": "stdout",
          "text": [
            "1\n"
          ]
        }
      ]
    },
    {
      "cell_type": "code",
      "source": [
        "print(5 | 3) # | opertion+\n"
      ],
      "metadata": {
        "colab": {
          "base_uri": "https://localhost:8080/"
        },
        "id": "v9FjrzY8pTFU",
        "outputId": "4336125d-6aab-4dfa-9e11-9e4586f3c345"
      },
      "execution_count": 26,
      "outputs": [
        {
          "output_type": "stream",
          "name": "stdout",
          "text": [
            "7\n"
          ]
        }
      ]
    },
    {
      "cell_type": "code",
      "source": [
        "# xor operation\n",
        "print(7 ^ 9)"
      ],
      "metadata": {
        "colab": {
          "base_uri": "https://localhost:8080/"
        },
        "id": "EqDDeALSpZAd",
        "outputId": "997147a4-61fa-44e4-de93-f3e1d794d996"
      },
      "execution_count": 27,
      "outputs": [
        {
          "output_type": "stream",
          "name": "stdout",
          "text": [
            "14\n"
          ]
        }
      ]
    },
    {
      "cell_type": "code",
      "source": [
        "# Right shift: Floor division 2 to the power k (Here k=1)\n",
        "print((21 >> 1))\n"
      ],
      "metadata": {
        "colab": {
          "base_uri": "https://localhost:8080/"
        },
        "id": "EK1sTArkqlE2",
        "outputId": "76b6cd16-ca68-4971-aa1b-8a173c163ab1"
      },
      "execution_count": 28,
      "outputs": [
        {
          "output_type": "stream",
          "name": "stdout",
          "text": [
            "10\n"
          ]
        }
      ]
    },
    {
      "cell_type": "code",
      "source": [
        "# left division: Multiplication by 2 to the power k (Here k=1)\n",
        "print((21 << 1))"
      ],
      "metadata": {
        "colab": {
          "base_uri": "https://localhost:8080/"
        },
        "id": "pW2Pmsfhwrqn",
        "outputId": "46ad3b5e-6554-4896-b055-330af2a30f35"
      },
      "execution_count": 29,
      "outputs": [
        {
          "output_type": "stream",
          "name": "stdout",
          "text": [
            "42\n"
          ]
        }
      ]
    },
    {
      "cell_type": "code",
      "source": [],
      "metadata": {
        "id": "1_x-u_cMxshD"
      },
      "execution_count": null,
      "outputs": []
    }
  ]
}