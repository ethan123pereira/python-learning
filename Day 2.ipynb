{
  "nbformat": 4,
  "nbformat_minor": 0,
  "metadata": {
    "colab": {
      "provenance": []
    },
    "kernelspec": {
      "name": "python3",
      "display_name": "Python 3"
    },
    "language_info": {
      "name": "python"
    }
  },
  "cells": [
    {
      "cell_type": "code",
      "execution_count": 1,
      "metadata": {
        "colab": {
          "base_uri": "https://localhost:8080/"
        },
        "id": "TwQ13lCaHp-d",
        "outputId": "b23d8a80-f145-4b8f-e306-1adb732f6bbf"
      },
      "outputs": [
        {
          "output_type": "stream",
          "name": "stdout",
          "text": [
            "15\n"
          ]
        }
      ],
      "source": [
        "# Assignment operators\n",
        "a = 10\n",
        "a=a+5\n",
        "print(a)\n"
      ]
    },
    {
      "cell_type": "code",
      "source": [
        "a+=5 #equivalent to a=a+5\n",
        "print(a)"
      ],
      "metadata": {
        "colab": {
          "base_uri": "https://localhost:8080/"
        },
        "id": "5vu83nnHIwk5",
        "outputId": "6115ab76-ee14-4841-cb50-ae4ec62d188b"
      },
      "execution_count": 2,
      "outputs": [
        {
          "output_type": "stream",
          "name": "stdout",
          "text": [
            "20\n"
          ]
        }
      ]
    },
    {
      "cell_type": "code",
      "source": [
        "a=a-5\n",
        "print(a)"
      ],
      "metadata": {
        "colab": {
          "base_uri": "https://localhost:8080/"
        },
        "id": "vDfAFeVTI-3t",
        "outputId": "56bb4397-8ddb-4fd3-b1ef-0244496db48d"
      },
      "execution_count": 3,
      "outputs": [
        {
          "output_type": "stream",
          "name": "stdout",
          "text": [
            "15\n"
          ]
        }
      ]
    },
    {
      "cell_type": "code",
      "source": [
        "a-=5 #equivalent to a=a-5\n",
        "print(a)"
      ],
      "metadata": {
        "colab": {
          "base_uri": "https://localhost:8080/"
        },
        "id": "mMIS0gA6JF7c",
        "outputId": "1f9b38c5-252b-4932-fc8c-09e1bc1e7c02"
      },
      "execution_count": 4,
      "outputs": [
        {
          "output_type": "stream",
          "name": "stdout",
          "text": [
            "10\n"
          ]
        }
      ]
    },
    {
      "cell_type": "code",
      "source": [
        "a=a*2 #multiplication\n",
        "print(a)"
      ],
      "metadata": {
        "colab": {
          "base_uri": "https://localhost:8080/"
        },
        "id": "BLWm1pKLJUeB",
        "outputId": "88565333-5fc8-4b32-a0aa-41a677775146"
      },
      "execution_count": 5,
      "outputs": [
        {
          "output_type": "stream",
          "name": "stdout",
          "text": [
            "20\n"
          ]
        }
      ]
    },
    {
      "cell_type": "code",
      "source": [
        "a*=2 #equivalent to a=a*2\n",
        "print(a)"
      ],
      "metadata": {
        "colab": {
          "base_uri": "https://localhost:8080/"
        },
        "id": "o4OBSS2FJpv-",
        "outputId": "ca49db53-863c-4531-b23a-0daf573416db"
      },
      "execution_count": 6,
      "outputs": [
        {
          "output_type": "stream",
          "name": "stdout",
          "text": [
            "40\n"
          ]
        }
      ]
    },
    {
      "cell_type": "code",
      "source": [
        "#division\n",
        "a=20\n",
        "a=a/10\n",
        "print(a)"
      ],
      "metadata": {
        "colab": {
          "base_uri": "https://localhost:8080/"
        },
        "id": "ZBsObdpeJugL",
        "outputId": "056a7f40-e947-4137-a36d-49ce7821d131"
      },
      "execution_count": 7,
      "outputs": [
        {
          "output_type": "stream",
          "name": "stdout",
          "text": [
            "2.0\n"
          ]
        }
      ]
    },
    {
      "cell_type": "code",
      "source": [
        "a=20 #equivalent to a=a/10\n",
        "a/=10\n",
        "print(a)"
      ],
      "metadata": {
        "colab": {
          "base_uri": "https://localhost:8080/"
        },
        "id": "6LiGsczuKV6E",
        "outputId": "8da7bdb9-4a42-46a3-b25d-ab585c25f696"
      },
      "execution_count": 8,
      "outputs": [
        {
          "output_type": "stream",
          "name": "stdout",
          "text": [
            "2.0\n"
          ]
        }
      ]
    },
    {
      "cell_type": "code",
      "source": [
        "a=20\n",
        "a=a//3\n",
        "print(a)"
      ],
      "metadata": {
        "colab": {
          "base_uri": "https://localhost:8080/"
        },
        "id": "nozpWIZsK9NC",
        "outputId": "f058c67d-522d-4c9b-f865-608537049fdb"
      },
      "execution_count": 9,
      "outputs": [
        {
          "output_type": "stream",
          "name": "stdout",
          "text": [
            "6\n"
          ]
        }
      ]
    },
    {
      "cell_type": "code",
      "source": [
        "a=20\n",
        "a//=3\n",
        "print(a)"
      ],
      "metadata": {
        "colab": {
          "base_uri": "https://localhost:8080/"
        },
        "id": "R4pcyhQULIxS",
        "outputId": "d5d42328-6b21-48dc-da4a-87efb694e352"
      },
      "execution_count": 10,
      "outputs": [
        {
          "output_type": "stream",
          "name": "stdout",
          "text": [
            "6\n"
          ]
        }
      ]
    },
    {
      "cell_type": "code",
      "source": [
        "a=3\n",
        "a=a**3\n",
        "print(a)"
      ],
      "metadata": {
        "colab": {
          "base_uri": "https://localhost:8080/"
        },
        "id": "OP2vOmN9LR1U",
        "outputId": "9d4f0a99-fcb3-42d4-ea80-9f63d6104868"
      },
      "execution_count": 11,
      "outputs": [
        {
          "output_type": "stream",
          "name": "stdout",
          "text": [
            "27\n"
          ]
        }
      ]
    },
    {
      "cell_type": "code",
      "source": [
        "a=3 #equivalent to a=a**3\n",
        "a**=3\n",
        "print(a)"
      ],
      "metadata": {
        "colab": {
          "base_uri": "https://localhost:8080/"
        },
        "id": "v4fBLVJVLadR",
        "outputId": "ed222639-4a79-4f22-ab4e-2c4aed6f2c27"
      },
      "execution_count": 12,
      "outputs": [
        {
          "output_type": "stream",
          "name": "stdout",
          "text": [
            "27\n"
          ]
        }
      ]
    },
    {
      "cell_type": "code",
      "source": [
        "a=20\n",
        "a=a%3\n",
        "print(a)\n"
      ],
      "metadata": {
        "colab": {
          "base_uri": "https://localhost:8080/"
        },
        "id": "KFwYXWXzLiIk",
        "outputId": "5b573b9b-0ed7-4601-8c07-31e0312af4ed"
      },
      "execution_count": 13,
      "outputs": [
        {
          "output_type": "stream",
          "name": "stdout",
          "text": [
            "2\n"
          ]
        }
      ]
    },
    {
      "cell_type": "code",
      "source": [
        "a=20\n",
        "a%=3\n",
        "print(a)"
      ],
      "metadata": {
        "colab": {
          "base_uri": "https://localhost:8080/"
        },
        "id": "7VsKTxhlLzJt",
        "outputId": "751e32d6-d266-40fa-ac5a-480ba5ee8534"
      },
      "execution_count": 14,
      "outputs": [
        {
          "output_type": "stream",
          "name": "stdout",
          "text": [
            "2\n"
          ]
        }
      ]
    },
    {
      "cell_type": "code",
      "source": [
        "# Comparisn operators\n",
        "a=10\n",
        "b=10\n",
        "c=20\n",
        "print(a==b) #to check equivalency\n",
        "print(a==c)\n"
      ],
      "metadata": {
        "colab": {
          "base_uri": "https://localhost:8080/"
        },
        "id": "qRj8RnF5Lvyx",
        "outputId": "a8a19562-28be-4240-9bbe-abcd347917db"
      },
      "execution_count": 15,
      "outputs": [
        {
          "output_type": "stream",
          "name": "stdout",
          "text": [
            "True\n",
            "False\n"
          ]
        }
      ]
    },
    {
      "cell_type": "code",
      "source": [
        "a=10\n",
        "b=10\n",
        "c=20\n",
        "print(a!=b) #to check if they are not equal\n",
        "print(a!=c)"
      ],
      "metadata": {
        "colab": {
          "base_uri": "https://localhost:8080/"
        },
        "id": "30b05NcCMdcF",
        "outputId": "67d0bc4e-185f-44a4-df10-1ad1f955a5cf"
      },
      "execution_count": 16,
      "outputs": [
        {
          "output_type": "stream",
          "name": "stdout",
          "text": [
            "False\n",
            "True\n"
          ]
        }
      ]
    },
    {
      "cell_type": "code",
      "source": [
        "#to check if two values are greater than eachother or not\n",
        "a=10\n",
        "b=20\n",
        "print(a>b)\n",
        "print(a<b)"
      ],
      "metadata": {
        "colab": {
          "base_uri": "https://localhost:8080/"
        },
        "id": "APzyPruiMwT7",
        "outputId": "c25099b1-0312-4222-9dcc-d00a2378fa7d"
      },
      "execution_count": 17,
      "outputs": [
        {
          "output_type": "stream",
          "name": "stdout",
          "text": [
            "False\n",
            "True\n"
          ]
        }
      ]
    },
    {
      "cell_type": "code",
      "source": [
        "a=10\n",
        "b=10\n",
        "print(a>=b)"
      ],
      "metadata": {
        "colab": {
          "base_uri": "https://localhost:8080/"
        },
        "id": "GTziiuZQNcXt",
        "outputId": "e2198247-7368-4128-c032-b3d5e1b84458"
      },
      "execution_count": 18,
      "outputs": [
        {
          "output_type": "stream",
          "name": "stdout",
          "text": [
            "True\n"
          ]
        }
      ]
    },
    {
      "cell_type": "code",
      "source": [
        "#Problem: Given two numbers assign them to two to two variables and then swap their values\n",
        "a=int(input(\"Enter 1st number :\"))\n",
        "b=int(input(\"Enter 2nd number: \"))\n",
        "print(\"a=\",a)\n",
        "print(\"b=\",b)\n",
        "c=a\n",
        "a=b\n",
        "b=c\n",
        "print(\"a is\",a)\n",
        "print(\"b is\",b)\n"
      ],
      "metadata": {
        "colab": {
          "base_uri": "https://localhost:8080/"
        },
        "id": "MaT4b4bVNljV",
        "outputId": "6d5b06a1-2931-4ff2-8dff-d1afa005f6d2"
      },
      "execution_count": 19,
      "outputs": [
        {
          "output_type": "stream",
          "name": "stdout",
          "text": [
            "Enter 1st number :2\n",
            "Enter 2nd number: 3\n",
            "a= 2\n",
            "b= 3\n",
            "a is 3\n",
            "b is 2\n"
          ]
        }
      ]
    },
    {
      "cell_type": "code",
      "source": [
        "#Problem 2: Calculate area of triangle taking the input from user as three sides of a triangle\n",
        "a=float(input(\"Enter 1st side: \"))\n",
        "b=float(input(\"Enter 2nd side: \"))\n",
        "c=float(input(\"Enter 3rd side: \"))\n",
        "s=(a+b+c)/2\n",
        "area=(s*(s-a)*(s-b)*(s-c))**0.5\n",
        "print(\"Area=\",area)\n"
      ],
      "metadata": {
        "colab": {
          "base_uri": "https://localhost:8080/"
        },
        "id": "x2ToH2MLQASs",
        "outputId": "ae9e0546-0fda-42e0-852b-84c6f1746d82"
      },
      "execution_count": 20,
      "outputs": [
        {
          "output_type": "stream",
          "name": "stdout",
          "text": [
            "Enter 1st side: 2\n",
            "Enter 2nd side: 5\n",
            "Enter 3rd side: 1\n",
            "Area= (2.9997597730436923e-16+4.898979485566356j)\n"
          ]
        }
      ]
    },
    {
      "cell_type": "code",
      "source": [
        "# Logical operators\n",
        "\n"
      ],
      "metadata": {
        "id": "kyteiIzqTuwi"
      },
      "execution_count": 21,
      "outputs": []
    },
    {
      "cell_type": "code",
      "source": [],
      "metadata": {
        "id": "YUaHCwzx_BhA"
      },
      "execution_count": 21,
      "outputs": []
    }
  ]
}